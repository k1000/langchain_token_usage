{
 "cells": [
  {
   "cell_type": "code",
   "execution_count": 1,
   "metadata": {},
   "outputs": [],
   "source": [
    "import boto3\n",
    "from langchain.llms import Bedrock\n",
    "from langchain.utilities.anthropic import get_num_tokens_anthropic\n",
    "\n",
    "from langchain.prompts import PromptTemplate\n",
    "from langchain.chains import LLMChain\n",
    "\n",
    "from langchain_token_usage.handlers import LocalTokenUsageCallbackHandler\n",
    "from langchain_token_usage.reporters import LocalStatsReporter, CloudWatchTokenUsageReporter"
   ]
  },
  {
   "cell_type": "code",
   "execution_count": 2,
   "metadata": {},
   "outputs": [
    {
     "data": {
      "text/plain": [
       "' Rome is the capital and largest city of Italy.'"
      ]
     },
     "execution_count": 2,
     "metadata": {},
     "output_type": "execute_result"
    }
   ],
   "source": [
    "MODEL_NAME = \"anthropic.claude-v2\"\n",
    "\n",
    "def bedrock_anthropic_claude_cost_func(num_input_tokens: int, num_output_tokens: int) -> float:\n",
    "    \"\"\"See https://aws.amazon.com/bedrock/pricing/\"\"\"\n",
    "    return num_input_tokens * 0.01102 / 1000.0 + num_output_tokens * 0.03268 / 1000.0\n",
    "\n",
    "reporter1 = LocalStatsReporter()\n",
    "reporter2 = CloudWatchTokenUsageReporter(\n",
    "    namespace=\"bedrock_token_usage\",\n",
    "    dimensions={\"project\": \"toke_usage_test\"}\n",
    ")\n",
    "\n",
    "handler1 = LocalTokenUsageCallbackHandler(\n",
    "    reporter=reporter1,\n",
    "    model_name=MODEL_NAME,\n",
    "    caller_id=\"test_user\",\n",
    "    token_counter_func=get_num_tokens_anthropic,\n",
    "    cost_func=bedrock_anthropic_claude_cost_func,\n",
    ")\n",
    "handler2 = LocalTokenUsageCallbackHandler(\n",
    "    reporter=reporter2,\n",
    "    model_name=MODEL_NAME,\n",
    "    caller_id=\"test_user\",\n",
    "    token_counter_func=get_num_tokens_anthropic,\n",
    "    cost_func=bedrock_anthropic_claude_cost_func,\n",
    ")\n",
    "\n",
    "session = boto3.Session(region_name=\"us-east-1\")\n",
    "llm = Bedrock(\n",
    "    client=session.client(\"bedrock-runtime\"),\n",
    "    model_id=MODEL_NAME,\n",
    "    model_kwargs={\n",
    "        \"max_tokens_to_sample\": 4096,\n",
    "        \"temperature\": 0.2,\n",
    "    },\n",
    "    callbacks=[handler1, handler2],\n",
    ")\n",
    "\n",
    "prompt = PromptTemplate.from_template(\"What city is the capital of {country}?\")\n",
    "\n",
    "chain = LLMChain(llm=llm, prompt=prompt)\n",
    "chain.run(country=\"Italy\")"
   ]
  },
  {
   "cell_type": "markdown",
   "metadata": {},
   "source": [
    "Check your `bedrock_token_usage` namespace in CloudWatch metrics ..."
   ]
  },
  {
   "cell_type": "code",
   "execution_count": 3,
   "metadata": {},
   "outputs": [
    {
     "data": {
      "text/plain": [
       "Local stats report:\n",
       "  total_tokens=18\n",
       "  prompt_tokens=8\n",
       "  completion_tokens=10\n",
       "  successful_requests=1\n",
       "  total_cost=0.00041495999999999997"
      ]
     },
     "execution_count": 3,
     "metadata": {},
     "output_type": "execute_result"
    }
   ],
   "source": [
    "reporter1"
   ]
  },
  {
   "cell_type": "code",
   "execution_count": null,
   "metadata": {},
   "outputs": [],
   "source": []
  }
 ],
 "metadata": {
  "kernelspec": {
   "display_name": ".venv",
   "language": "python",
   "name": "python3"
  },
  "language_info": {
   "codemirror_mode": {
    "name": "ipython",
    "version": 3
   },
   "file_extension": ".py",
   "mimetype": "text/x-python",
   "name": "python",
   "nbconvert_exporter": "python",
   "pygments_lexer": "ipython3",
   "version": "3.11.5"
  }
 },
 "nbformat": 4,
 "nbformat_minor": 2
}
