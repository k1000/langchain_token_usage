{
 "cells": [
  {
   "cell_type": "code",
   "execution_count": 1,
   "metadata": {},
   "outputs": [],
   "source": [
    "from langchain_token_usage.handlers import OpenAITokenUsageCallbackHandler\n",
    "from langchain_token_usage.reporters import CloudWatchTokenUsageReporter"
   ]
  },
  {
   "cell_type": "code",
   "execution_count": 2,
   "metadata": {},
   "outputs": [],
   "source": [
    "import os, getpass\n",
    "\n",
    "if not \"OPENAI_API_KEY\" in os.environ:\n",
    "    os.environ[\"OPENAI_API_KEY\"] = getpass.getpass(\"Enter OpenAI API key:\")"
   ]
  },
  {
   "cell_type": "code",
   "execution_count": 4,
   "metadata": {},
   "outputs": [
    {
     "data": {
      "text/plain": [
       "'3'"
      ]
     },
     "execution_count": 4,
     "metadata": {},
     "output_type": "execute_result"
    }
   ],
   "source": [
    "from langchain.chat_models import ChatOpenAI\n",
    "from langchain.prompts import PromptTemplate\n",
    "from langchain.chains import LLMChain\n",
    "\n",
    "reporter = CloudWatchTokenUsageReporter(\"openai_token_usage\", {\"project\": \"toke_usage_test\"})\n",
    "handler = OpenAITokenUsageCallbackHandler(reporter)\n",
    "\n",
    "llm = ChatOpenAI(model=\"gpt-4\", callbacks=[handler])\n",
    "prompt = PromptTemplate.from_template(\"1 + {number} = \")\n",
    "\n",
    "chain = LLMChain(llm=llm, prompt=prompt)\n",
    "chain.run(number=2)\n"
   ]
  },
  {
   "cell_type": "code",
   "execution_count": 7,
   "metadata": {},
   "outputs": [
    {
     "data": {
      "text/plain": [
       "'3'"
      ]
     },
     "execution_count": 7,
     "metadata": {},
     "output_type": "execute_result"
    }
   ],
   "source": [
    "from langchain.chat_models import ChatOpenAI\n",
    "from langchain.prompts import PromptTemplate\n",
    "from langchain.chains import LLMChain\n",
    "\n",
    "from langchain_token_usage.handlers.local_handler import LocalTokenUsageCallbackHandler\n",
    "\n",
    "handler = LocalTokenUsageCallbackHandler(\n",
    "    reporter=reporter,\n",
    "    model_name=\"gpt-4\",\n",
    "    caller_id=\"notebook-test\",\n",
    "    token_counter_func=lambda str: len(str.split()),\n",
    ")\n",
    "\n",
    "llm = ChatOpenAI(model=\"gpt-4\", callbacks=[handler])\n",
    "prompt = PromptTemplate.from_template(\"1 + {number} = \")\n",
    "chain = LLMChain(llm=llm, prompt=prompt)\n",
    "chain.run(number=2)"
   ]
  },
  {
   "cell_type": "code",
   "execution_count": null,
   "metadata": {},
   "outputs": [],
   "source": []
  }
 ],
 "metadata": {
  "kernelspec": {
   "display_name": ".venv",
   "language": "python",
   "name": "python3"
  },
  "language_info": {
   "codemirror_mode": {
    "name": "ipython",
    "version": 3
   },
   "file_extension": ".py",
   "mimetype": "text/x-python",
   "name": "python",
   "nbconvert_exporter": "python",
   "pygments_lexer": "ipython3",
   "version": "3.11.5"
  }
 },
 "nbformat": 4,
 "nbformat_minor": 2
}
